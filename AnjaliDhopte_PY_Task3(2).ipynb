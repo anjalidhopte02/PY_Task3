{
 "cells": [
  {
   "cell_type": "markdown",
   "id": "79848487-4960-487b-8a9a-57eb734908c8",
   "metadata": {},
   "source": [
    "# Task3-PY\n",
    "# tuple task \n",
    "* 8 example of tupple\n",
    "* provide good document"
   ]
  },
  {
   "cell_type": "markdown",
   "id": "540e0050-6b7c-4147-bd23-65b3f56fe011",
   "metadata": {},
   "source": [
    "* A tuple can contain different data types\n",
    "* A tuple with strings, integers and boolean values\n",
    "* https://www.w3schools.com/Python/python_tuples.asp"
   ]
  },
  {
   "cell_type": "markdown",
   "id": "ff3021f0-188c-4ad3-b3bd-10fc58d115ff",
   "metadata": {},
   "source": [
    "## 1) \n"
   ]
  },
  {
   "cell_type": "code",
   "execution_count": 1,
   "id": "85ecd809-4610-440a-aabc-06974304664b",
   "metadata": {},
   "outputs": [
    {
     "name": "stdout",
     "output_type": "stream",
     "text": [
      "('Lotus', 'Rose', 'Marigold', 'Sunflower')\n"
     ]
    }
   ],
   "source": [
    "t1=('Lotus','Rose','Marigold','Sunflower')\n",
    "print(t1)"
   ]
  },
  {
   "cell_type": "markdown",
   "id": "d3904a37-a8fa-49aa-b8e8-bd394ae7f7a8",
   "metadata": {},
   "source": [
    "## 2)"
   ]
  },
  {
   "cell_type": "code",
   "execution_count": 7,
   "id": "bf2aa94e-60d8-49f2-b572-4ae2155f799d",
   "metadata": {},
   "outputs": [
    {
     "name": "stdout",
     "output_type": "stream",
     "text": [
      "{16, 11, 12, 13, 14, 15}\n"
     ]
    }
   ],
   "source": [
    "t2={11,12,13,14,15,16}\n",
    "print(t2)"
   ]
  },
  {
   "cell_type": "markdown",
   "id": "d090512f-64c3-4649-94b1-fd665759779d",
   "metadata": {},
   "source": [
    "## 3)"
   ]
  },
  {
   "cell_type": "code",
   "execution_count": 12,
   "id": "2410c63f-3ac9-42f5-be09-7f5f2242af37",
   "metadata": {},
   "outputs": [
    {
     "name": "stdout",
     "output_type": "stream",
     "text": [
      "(True, False, True)\n"
     ]
    }
   ],
   "source": [
    "t3=(True,False,True)\n",
    "print(t3)"
   ]
  },
  {
   "cell_type": "markdown",
   "id": "2ef96101-c1ea-4c7d-a699-571e4d2bf0ea",
   "metadata": {},
   "source": [
    "## 4)"
   ]
  },
  {
   "cell_type": "code",
   "execution_count": 18,
   "id": "38f7876a-55d1-4a5d-8cfb-43c366e72c10",
   "metadata": {},
   "outputs": [
    {
     "name": "stdout",
     "output_type": "stream",
     "text": [
      "('Mango', True, 12, 25, False)\n"
     ]
    }
   ],
   "source": [
    "t4=('Mango',True,12,25,False)\n",
    "print(t4)"
   ]
  },
  {
   "cell_type": "markdown",
   "id": "edf166c9-6fa3-4ac6-9bbe-261ed16e0cd8",
   "metadata": {},
   "source": [
    "## 5)\n",
    "* Access Tuple Items : You can access tuple items by referring to the index number, inside square brackets.\n",
    "* https://www.w3schools.com/Python/python_tuples_access.asp"
   ]
  },
  {
   "cell_type": "code",
   "execution_count": 26,
   "id": "8ccdbac2-73ad-4acd-8150-8b2e9c680b86",
   "metadata": {},
   "outputs": [
    {
     "name": "stdout",
     "output_type": "stream",
     "text": [
      "Mango\n"
     ]
    }
   ],
   "source": [
    "t5 = (\"apple\", \"banana\", \"cherry\",\"Mango\",\"Papaya\")\n",
    "print(t5[3])"
   ]
  },
  {
   "cell_type": "markdown",
   "id": "8a6ffb80-64f7-4905-862d-9bbd9dd57494",
   "metadata": {},
   "source": [
    "# 6) \n",
    "* Negative Indexing : Negative indexing means start from the end.\n",
    "* -1 refers to the last item, -2 refers to the second last item etc."
   ]
  },
  {
   "cell_type": "code",
   "execution_count": 31,
   "id": "9475fe6e-6fc7-4d94-9824-590a881f8269",
   "metadata": {},
   "outputs": [
    {
     "name": "stdout",
     "output_type": "stream",
     "text": [
      "Mango\n"
     ]
    }
   ],
   "source": [
    "t5 = (\"apple\", \"banana\", \"cherry\",\"Mango\",\"Papaya\")\n",
    "print(t5[-2])"
   ]
  },
  {
   "cell_type": "code",
   "execution_count": 34,
   "id": "ad45c8e7-03b6-4410-a94e-ccf76281fa65",
   "metadata": {},
   "outputs": [
    {
     "name": "stdout",
     "output_type": "stream",
     "text": [
      "12\n"
     ]
    }
   ],
   "source": [
    "t6= (23,78,54,48,90,12)\n",
    "print(t6[-1])"
   ]
  },
  {
   "cell_type": "markdown",
   "id": "0897cb00-8f4a-4f81-8b9c-34105d5eed56",
   "metadata": {},
   "source": [
    "# 7)\n",
    "* Range of Indexes : \n",
    "You can specify a range of indexes by specifying where to start and where to end the range.* \n",
    "\r\n",
    "When specifying a range, the return value will be a new tuple with the specified itemample"
   ]
  },
  {
   "cell_type": "code",
   "execution_count": 44,
   "id": "86393959-9c92-4c03-8e4c-cefbbff5a751",
   "metadata": {},
   "outputs": [
    {
     "name": "stdout",
     "output_type": "stream",
     "text": [
      "(False, True)\n"
     ]
    }
   ],
   "source": [
    "t7 =(True, False, True, False,False)\n",
    "print(t7[1:3])"
   ]
  },
  {
   "cell_type": "code",
   "execution_count": 47,
   "id": "4f66a89e-bcde-4ea1-ae51-730ec027d32f",
   "metadata": {},
   "outputs": [
    {
     "name": "stdout",
     "output_type": "stream",
     "text": [
      "('kiwi', 'melon')\n"
     ]
    }
   ],
   "source": [
    "t8 = (\"apple\", \"banana\", \"cherry\", \"orange\", \"kiwi\", \"melon\", \"mango\")\n",
    "print(t8[-3:-1])"
   ]
  },
  {
   "cell_type": "code",
   "execution_count": 49,
   "id": "7155662e-2906-4b2f-9395-71e26e39703b",
   "metadata": {},
   "outputs": [
    {
     "name": "stdout",
     "output_type": "stream",
     "text": [
      "(76, 89, 46)\n"
     ]
    }
   ],
   "source": [
    "t9 =(12,90,56,76,89,46,77,44)\n",
    "print(t9[-5:-2])"
   ]
  },
  {
   "cell_type": "markdown",
   "id": "6972c752-6e50-4deb-b6e1-2367f2d167a9",
   "metadata": {},
   "source": [
    "# 8)"
   ]
  },
  {
   "cell_type": "code",
   "execution_count": null,
   "id": "f6cc63eb-02f8-434e-b11c-99278a9871da",
   "metadata": {},
   "outputs": [],
   "source": []
  }
 ],
 "metadata": {
  "kernelspec": {
   "display_name": "Python 3 (ipykernel)",
   "language": "python",
   "name": "python3"
  },
  "language_info": {
   "codemirror_mode": {
    "name": "ipython",
    "version": 3
   },
   "file_extension": ".py",
   "mimetype": "text/x-python",
   "name": "python",
   "nbconvert_exporter": "python",
   "pygments_lexer": "ipython3",
   "version": "3.12.4"
  }
 },
 "nbformat": 4,
 "nbformat_minor": 5
}
