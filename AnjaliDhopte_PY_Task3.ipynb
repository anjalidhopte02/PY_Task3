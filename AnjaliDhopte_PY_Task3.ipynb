{
 "cells": [
  {
   "cell_type": "markdown",
   "id": "6ac6f064-894b-4d94-acbb-3be6a41e1865",
   "metadata": {},
   "source": [
    "## PY-TASK3\n",
    "* give example of list min 20 of diffrent data types\r\n",
    "* give 15 unique method example of list\r\n",
    "* provide good document\r\n",
    "* code and output , why you are using selected method , provide link of method you used and search for ."
   ]
  },
  {
   "cell_type": "markdown",
   "id": "2f079df2-a04a-4e37-acd3-9788a1b50584",
   "metadata": {},
   "source": [
    "## List"
   ]
  },
  {
   "cell_type": "markdown",
   "id": "f528d183-5e98-445d-abe7-624457af4a33",
   "metadata": {},
   "source": [
    "## 1) append()\n",
    "* Python list append() method is used to add elements at the end of the list.\n",
    "* List_name.append(element)\n",
    "* https://www.geeksforgeeks.org/python-list-append-method/?ref=lbp)"
   ]
  },
  {
   "cell_type": "code",
   "execution_count": 16,
   "id": "efc018f6-6c82-4b7e-b1c9-49218cf833ed",
   "metadata": {},
   "outputs": [
    {
     "name": "stdout",
     "output_type": "stream",
     "text": [
      "[12, 45, 66, 78, 89, 60, 100]\n"
     ]
    }
   ],
   "source": [
    "l1=[12,45,66,78,89,60]\n",
    "l1.append(100)\n",
    "print(l1)"
   ]
  },
  {
   "cell_type": "markdown",
   "id": "e674b9bd-c9e8-402a-81a9-e516a9a1dfce",
   "metadata": {},
   "source": [
    "## 2) Clear()\n",
    "* Python List clear() method removes all items from the List making it an empty/null list.\n",
    "* Syntax: list.clear()\n",
    "* https://www.geeksforgeeks.org/python-list-clear-method/)"
   ]
  },
  {
   "cell_type": "code",
   "execution_count": 39,
   "id": "d6591662-350d-4dcf-a15e-19503ed2b0bf",
   "metadata": {},
   "outputs": [
    {
     "name": "stdout",
     "output_type": "stream",
     "text": [
      "[]\n"
     ]
    }
   ],
   "source": [
    "l2=['Raju',123,[12,13,14,15],90]\n",
    "l2.clear()\n",
    "print(l2)"
   ]
  },
  {
   "cell_type": "markdown",
   "id": "a4cad35c-e6fd-425e-8c02-1a34466efdd7",
   "metadata": {},
   "source": [
    "## 3) Count()\n",
    "* Python List count() method returns the count of the occurrences of a given element in a list.\n",
    "* list_name.count(object)\n",
    "* https://www.geeksforgeeks.org/python-list-count-method/"
   ]
  },
  {
   "cell_type": "code",
   "execution_count": 43,
   "id": "b9ac31cf-c281-499c-bd26-4f6c57982ee9",
   "metadata": {},
   "outputs": [
    {
     "name": "stdout",
     "output_type": "stream",
     "text": [
      "1\n"
     ]
    }
   ],
   "source": [
    "l3 = [\"Apple\", \"Mango\", \"Banana\", \"Cherry\" , \"Papaya\"]\n",
    "print(l3.count(\"Apple\"))"
   ]
  },
  {
   "cell_type": "markdown",
   "id": "91243b46-3bb2-4a98-920d-bfbc4e268f04",
   "metadata": {},
   "source": [
    "## 4) Extent()\n",
    "\n",
    "* The Python List extend() method adds items of an iterable (list, tuple, dictionary, etc) at the end of a list.\n",
    "* list_name.extend(iterable)\n",
    "* https://www.geeksforgeeks.org/python-list-extend-method/"
   ]
  },
  {
   "cell_type": "code",
   "execution_count": 37,
   "id": "cf7b5b53-2f4d-4013-afe1-445a071e60df",
   "metadata": {},
   "outputs": [
    {
     "name": "stdout",
     "output_type": "stream",
     "text": [
      "[123, 567, 113, 98, 99, 105, 12, 34]\n"
     ]
    }
   ],
   "source": [
    "l4=[123,567,113,98,99,105]\n",
    "l5=[12,34]\n",
    "l4.extend(l5)\n",
    "print(l4)"
   ]
  },
  {
   "cell_type": "markdown",
   "id": "0bf83ab2-66bc-4c62-9817-25fedd6cd0ee",
   "metadata": {},
   "source": [
    "## 5)Index()\n",
    "* List index() method searches for a given element from the start of the list and returns the position of the first occurrence.\n",
    "* list_name.index(element, start, end)\n",
    "* Parameters: \r",
    "      \n",
    "element – The element whose lowest index will be returned.      \r\n",
    "start (Optional) – The position from where the search begins       .\r\n",
    "end (Optional) – The position from where the search en\n",
    "* https://www.geeksforgeeks.org/python-list-index/ds."
   ]
  },
  {
   "cell_type": "code",
   "execution_count": 57,
   "id": "7dd20585-f229-482a-a6b2-17f30ec66b9a",
   "metadata": {},
   "outputs": [
    {
     "name": "stdout",
     "output_type": "stream",
     "text": [
      "3\n"
     ]
    }
   ],
   "source": [
    "l6=['Rose','Lotus','Marigold','Lily','Sunflower']\n",
    "print(l6.index(\"Lily\"))"
   ]
  },
  {
   "cell_type": "markdown",
   "id": "86811f38-f3b2-4e88-807f-afd60a586524",
   "metadata": {},
   "source": [
    "\n",
    "## 6)Insert()\n",
    "\n",
    "* Python List insert() method inserts an item at a specific index in a list.\n",
    "* List insert() Method Syntax\n",
    "    list_name.insert(index, element)\n",
    "* Parameters:\n",
    "  index: the index at which the element has to be inserted.\n",
    "  element: the element to be inserted in the list.\n",
    "* https://www.geeksforgeeks.org/python-list-insert/\n"
   ]
  },
  {
   "cell_type": "code",
   "execution_count": 6,
   "id": "d5debc67-a1ab-40b4-ab2b-7b81cbd198d8",
   "metadata": {},
   "outputs": [
    {
     "name": "stdout",
     "output_type": "stream",
     "text": [
      "['banana', 'apple', 'cherry', 'grape']\n"
     ]
    }
   ],
   "source": [
    "l7 = [\"banana\",\"cherry\",\"grape\"]\n",
    "l7.insert(1,\"apple\")\n",
    "print(l7)"
   ]
  },
  {
   "cell_type": "markdown",
   "id": "47275355-60bb-4d2c-a73b-6a73e0248050",
   "metadata": {},
   "source": [
    "# 7)POP\n",
    "\n",
    "* Python list pop() function removes elements at a specific index from the list.\n",
    "* Python List pop() Syntax\n",
    "  list_name.pop(index)\n",
    "* Parameter\n",
    "  index (optional) – The value at the index is popped out and removed.\n",
    "  If the index is not given, then the last element is popped out and removed.\n",
    "* https://www.geeksforgeeks.org/python-list-pop-method/\n"
   ]
  },
  {
   "cell_type": "code",
   "execution_count": 13,
   "id": "fe21bce8-d00a-4c97-8e8b-6dd1e18f6a3d",
   "metadata": {},
   "outputs": [
    {
     "name": "stdout",
     "output_type": "stream",
     "text": [
      "[34, 89, 78, 67]\n"
     ]
    }
   ],
   "source": [
    "l8 = [34,89,78,67,45]\n",
    "l8.pop()\n",
    "print(l8)"
   ]
  },
  {
   "cell_type": "markdown",
   "id": "1c700dca-a144-4bc6-996b-d945dfcc7db9",
   "metadata": {},
   "source": [
    "# 8)Remove\n",
    "* Python list remove() method removes a given element from the list.\n",
    "* List remove() Syntax\r",
    "    list_name.remove(obj)\n",
    "* https://www.geeksforgeeks.org/python-list-remove/ "
   ]
  },
  {
   "cell_type": "code",
   "execution_count": 1,
   "id": "3d49919c-8f35-4f74-affe-61c77fc810da",
   "metadata": {},
   "outputs": [
    {
     "name": "stdout",
     "output_type": "stream",
     "text": [
      "['apple', 'cherry']\n"
     ]
    }
   ],
   "source": [
    "fruits = ['apple', 'banana', 'cherry']\n",
    "fruits.remove(\"banana\")\n",
    "print(fruits)"
   ]
  },
  {
   "cell_type": "markdown",
   "id": "4c2984d4-9e34-4dd9-b1f7-55f18719c5bf",
   "metadata": {},
   "source": [
    "# 9) Reverse()\n",
    "* Python List reverse() is an inbuilt method in the Python programming language that reverses objects of the List in place i.e. it doesn’t use any extra  space but it just modifies the original list.\n",
    "* Syntax: list_name.reverse()\r",
    "* \r\n",
    "Parameters: There are no parameters* \r\n",
    "\r\n",
    "Returns: The reverse() method does not return any value but reverses the given object from the l\n",
    "* https://www.geeksforgeeks.org/python-list-reverse/ist."
   ]
  },
  {
   "cell_type": "code",
   "execution_count": 10,
   "id": "49f904e1-85ed-4e0d-ab84-37f6937214f7",
   "metadata": {},
   "outputs": [
    {
     "name": "stdout",
     "output_type": "stream",
     "text": [
      "[6, 2, 1, 4, 3, 2, 1]\n"
     ]
    }
   ],
   "source": [
    "list1 = [1, 2, 3, 4, 1, 2, 6] \n",
    "list1.reverse() \n",
    "print(list1) "
   ]
  },
  {
   "cell_type": "code",
   "execution_count": 12,
   "id": "70c70001-6239-40fb-a34d-dc33c17c3d34",
   "metadata": {},
   "outputs": [
    {
     "name": "stdout",
     "output_type": "stream",
     "text": [
      "['a', 'a', 'd', 'c', 'b', 'a']\n"
     ]
    }
   ],
   "source": [
    "list2 = ['a', 'b', 'c', 'd', 'a', 'a'] \n",
    "list2.reverse() \n",
    "print(list2)"
   ]
  },
  {
   "cell_type": "code",
   "execution_count": 14,
   "id": "c3326a60-aa2d-4af1-93f1-8655aa1643ad",
   "metadata": {},
   "outputs": [
    {
     "name": "stdout",
     "output_type": "stream",
     "text": [
      "['cherry', 'banana', 'apple']\n"
     ]
    }
   ],
   "source": [
    "l9= ['apple', 'banana', 'cherry']\n",
    "l9.reverse() \n",
    "print(l9)"
   ]
  },
  {
   "cell_type": "markdown",
   "id": "bcac6b0c-73f9-4078-ae83-7b729ac3de24",
   "metadata": {},
   "source": [
    "# 10) Sort()\n",
    "* Python list sort() method sorts the elements of a list.\n",
    "* It sorts in ascending order by default but can also sort values in descending order or in a custom manner using its parameters.\r",
    "* \r\n",
    "Example: Python list sort alphabetically and numericall\n",
    "* https://www.geeksforgeeks.org/python-list-sort-method/y."
   ]
  },
  {
   "cell_type": "code",
   "execution_count": 18,
   "id": "e28451fb-e406-4785-ac4c-93f548b536e2",
   "metadata": {},
   "outputs": [
    {
     "name": "stdout",
     "output_type": "stream",
     "text": [
      "[6, 8, 10, 11, 15, 17, 19, 24]\n"
     ]
    }
   ],
   "source": [
    "l10 =[10,11,8,6,24,17,15,19]\n",
    "l10.sort()\n",
    "print(l10)"
   ]
  },
  {
   "cell_type": "markdown",
   "id": "52d41ef6-3389-4cb5-bf98-3946de4d021e",
   "metadata": {},
   "source": [
    "# 11) Min()\n",
    "* Python min() function returns the smallest of the values or the smallest item in an iterable passed as its parameter.\n",
    "* Example: Find Python min integer from the list\n",
    "* https://www.geeksforgeeks.org/python-min-function/\n",
    "  "
   ]
  },
  {
   "cell_type": "code",
   "execution_count": 23,
   "id": "928c00e1-13e1-4587-9a37-b3ec23590bbb",
   "metadata": {},
   "outputs": [
    {
     "name": "stdout",
     "output_type": "stream",
     "text": [
      "15\n"
     ]
    }
   ],
   "source": [
    "num = [23,25,24,21,98,58,90,35,15]\n",
    "print(min(num))"
   ]
  },
  {
   "cell_type": "markdown",
   "id": "e299661d-8aa4-4e79-bab6-858a04d52a09",
   "metadata": {},
   "source": [
    "# 12) Max()\n",
    "* Python max() function returns the largest item in an iterable or the largest of two or more arguments.\n",
    "* https://www.geeksforgeeks.org/python-max-function/"
   ]
  },
  {
   "cell_type": "code",
   "execution_count": 29,
   "id": "0567658b-9d8e-4ce8-9efa-e96ea805e45b",
   "metadata": {},
   "outputs": [
    {
     "name": "stdout",
     "output_type": "stream",
     "text": [
      "98\n"
     ]
    }
   ],
   "source": [
    "num = [23,25,24,21,98,58,90,35,15]\n",
    "print(max(num))"
   ]
  },
  {
   "cell_type": "markdown",
   "id": "7b94ff37-5131-458b-b87a-605506e764c1",
   "metadata": {},
   "source": [
    "# 13) del()\n",
    "* del[a : b] :- This method deletes all the elements in range starting from index ‘a’ till ‘b’ mentioned in arguments.\n",
    "* https://www.geeksforgeeks.org/list-methods-in-python-set-2-del-remove-sort-insert-pop-extend/"
   ]
  },
  {
   "cell_type": "code",
   "execution_count": 34,
   "id": "f759b501-d164-425b-8c3e-443eeddb1ba3",
   "metadata": {},
   "outputs": [
    {
     "name": "stdout",
     "output_type": "stream",
     "text": [
      "[12, 17, 90, 87, 56]\n"
     ]
    }
   ],
   "source": [
    "list=[12,17,23,33,39,90,87,56]\n",
    "del list[2 : 5] \n",
    "print(list)"
   ]
  },
  {
   "cell_type": "code",
   "execution_count": null,
   "id": "40a2d0f6-9ab3-476e-a02d-ce236cbaf141",
   "metadata": {},
   "outputs": [],
   "source": [
    "# 14) "
   ]
  }
 ],
 "metadata": {
  "kernelspec": {
   "display_name": "Python 3 (ipykernel)",
   "language": "python",
   "name": "python3"
  },
  "language_info": {
   "codemirror_mode": {
    "name": "ipython",
    "version": 3
   },
   "file_extension": ".py",
   "mimetype": "text/x-python",
   "name": "python",
   "nbconvert_exporter": "python",
   "pygments_lexer": "ipython3",
   "version": "3.12.4"
  }
 },
 "nbformat": 4,
 "nbformat_minor": 5
}
